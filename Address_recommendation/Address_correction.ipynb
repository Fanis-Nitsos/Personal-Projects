{
 "cells": [
  {
   "cell_type": "markdown",
   "id": "6862b915-2d95-4fa4-bbac-3141d925c2dd",
   "metadata": {},
   "source": [
    "## Address standardisation\n",
    "This is a project for recommending potential standardised addresses based on a given input. This is for Athens / Attica addresses. Previous filtering through PC is recommended"
   ]
  },
  {
   "cell_type": "markdown",
   "id": "5e9084f4-111c-44e7-b350-a08d31268fb3",
   "metadata": {},
   "source": [
    "### Library installation and import"
   ]
  },
  {
   "cell_type": "code",
   "execution_count": null,
   "id": "5f608576-d38b-43c5-91ce-13b22119b0ed",
   "metadata": {},
   "outputs": [],
   "source": [
    "!pip install osmnx\n",
    "!pip install geopandas\n",
    "!pip install matplotlib\n",
    "!pip install numpy\n",
    "!pip install pandas\n",
    "!pip install fuzzywuzzy\n",
    "!pip install python-Levenshtein  # Optional for faster performance"
   ]
  },
  {
   "cell_type": "code",
   "execution_count": 2,
   "id": "e2e3f97c-cea2-46db-86de-96073e924503",
   "metadata": {},
   "outputs": [],
   "source": [
    "import osmnx as ox\n",
    "import geopandas as gpd\n",
    "import numpy as np\n",
    "import pandas as pd\n",
    "from fuzzywuzzy import process"
   ]
  },
  {
   "cell_type": "markdown",
   "id": "0e73bb4d-33d7-40c4-a659-d0638b772a31",
   "metadata": {},
   "source": [
    "### Download Data from openstreetmap and pre-process"
   ]
  },
  {
   "cell_type": "code",
   "execution_count": 36,
   "id": "80a3d735-9534-4a83-acc2-92fa52632ddc",
   "metadata": {},
   "outputs": [],
   "source": [
    "# Specify the name that is used to seach for the data\n",
    "place_name = \"attica\""
   ]
  },
  {
   "cell_type": "code",
   "execution_count": 37,
   "id": "cca5db9b-df33-427b-8da3-03869c8749e5",
   "metadata": {},
   "outputs": [],
   "source": [
    "# Get place boundary related to the place name as a geodataframe\n",
    "area = ox.geocode_to_gdf(place_name)"
   ]
  },
  {
   "cell_type": "code",
   "execution_count": 38,
   "id": "e5a11104-e623-4765-a06e-a5193786d045",
   "metadata": {},
   "outputs": [
    {
     "data": {
      "text/html": [
       "<div>\n",
       "<style scoped>\n",
       "    .dataframe tbody tr th:only-of-type {\n",
       "        vertical-align: middle;\n",
       "    }\n",
       "\n",
       "    .dataframe tbody tr th {\n",
       "        vertical-align: top;\n",
       "    }\n",
       "\n",
       "    .dataframe thead th {\n",
       "        text-align: right;\n",
       "    }\n",
       "</style>\n",
       "<table border=\"1\" class=\"dataframe\">\n",
       "  <thead>\n",
       "    <tr style=\"text-align: right;\">\n",
       "      <th></th>\n",
       "      <th>geometry</th>\n",
       "      <th>bbox_north</th>\n",
       "      <th>bbox_south</th>\n",
       "      <th>bbox_east</th>\n",
       "      <th>bbox_west</th>\n",
       "      <th>place_id</th>\n",
       "      <th>osm_type</th>\n",
       "      <th>osm_id</th>\n",
       "      <th>lat</th>\n",
       "      <th>lon</th>\n",
       "      <th>class</th>\n",
       "      <th>type</th>\n",
       "      <th>place_rank</th>\n",
       "      <th>importance</th>\n",
       "      <th>addresstype</th>\n",
       "      <th>name</th>\n",
       "      <th>display_name</th>\n",
       "    </tr>\n",
       "  </thead>\n",
       "  <tbody>\n",
       "    <tr>\n",
       "      <th>0</th>\n",
       "      <td>MULTIPOLYGON (((22.79081 36.32057, 22.79081 36...</td>\n",
       "      <td>38.378158</td>\n",
       "      <td>35.741416</td>\n",
       "      <td>24.173419</td>\n",
       "      <td>22.790806</td>\n",
       "      <td>80430975</td>\n",
       "      <td>relation</td>\n",
       "      <td>957716</td>\n",
       "      <td>37.75618</td>\n",
       "      <td>23.666901</td>\n",
       "      <td>boundary</td>\n",
       "      <td>administrative</td>\n",
       "      <td>10</td>\n",
       "      <td>0.501473</td>\n",
       "      <td>state_district</td>\n",
       "      <td>Attica</td>\n",
       "      <td>Attica, Greece</td>\n",
       "    </tr>\n",
       "  </tbody>\n",
       "</table>\n",
       "</div>"
      ],
      "text/plain": [
       "                                            geometry  bbox_north  bbox_south  \\\n",
       "0  MULTIPOLYGON (((22.79081 36.32057, 22.79081 36...   38.378158   35.741416   \n",
       "\n",
       "   bbox_east  bbox_west  place_id  osm_type  osm_id       lat        lon  \\\n",
       "0  24.173419  22.790806  80430975  relation  957716  37.75618  23.666901   \n",
       "\n",
       "      class            type  place_rank  importance     addresstype    name  \\\n",
       "0  boundary  administrative          10    0.501473  state_district  Attica   \n",
       "\n",
       "     display_name  \n",
       "0  Attica, Greece  "
      ]
     },
     "execution_count": 38,
     "metadata": {},
     "output_type": "execute_result"
    }
   ],
   "source": [
    "area"
   ]
  },
  {
   "cell_type": "code",
   "execution_count": 39,
   "id": "b46e91dc-6534-4e11-9663-9c2c2fe2acc2",
   "metadata": {},
   "outputs": [
    {
     "data": {
      "text/plain": [
       "<Axes: >"
      ]
     },
     "execution_count": 39,
     "metadata": {},
     "output_type": "execute_result"
    },
    {
     "data": {
      "image/png": "[encoded data removed]",
      "text/plain": [
       "<Figure size 640x480 with 1 Axes>"
      ]
     },
     "metadata": {},
     "output_type": "display_data"
    }
   ],
   "source": [
    "area.plot()"
   ]
  },
  {
   "cell_type": "code",
   "execution_count": 40,
   "id": "fc500656-ca8d-4cd5-b332-0a20f514b6f9",
   "metadata": {},
   "outputs": [],
   "source": [
    "# Retrieve the street network (graph) within the area boundary\n",
    "# 'network_type' can be 'drive', 'bike', 'walk', etc., depending on your needs\n",
    "graph = ox.graph_from_place(place_name)\n",
    "\n",
    "# Convert the graph into a GeoDataFrame with edges (streets)\n",
    "edges = ox.graph_to_gdfs(graph, nodes=False)"
   ]
  },
  {
   "cell_type": "code",
   "execution_count": 42,
   "id": "f6d38b9d-26a8-4b1b-a54a-b1ae114f2a13",
   "metadata": {},
   "outputs": [],
   "source": [
    "street_names = edges['name']"
   ]
  },
  {
   "cell_type": "code",
   "execution_count": 51,
   "id": "bda5de8c-0fb1-485d-8aeb-2b600b41c948",
   "metadata": {},
   "outputs": [
    {
     "data": {
      "text/plain": [
       "Index(['osmid', 'oneway', 'highway', 'reversed', 'length', 'geometry', 'lanes',\n",
       "       'ref', 'name', 'maxspeed', 'bridge', 'service', 'width', 'access',\n",
       "       'junction', 'tunnel', 'area', 'est_width'],\n",
       "      dtype='object')"
      ]
     },
     "execution_count": 51,
     "metadata": {},
     "output_type": "execute_result"
    }
   ],
   "source": [
    "edges.columns"
   ]
  },
  {
   "cell_type": "code",
   "execution_count": 44,
   "id": "ee6ec7fa-f45a-4371-bfd0-273008ce8102",
   "metadata": {},
   "outputs": [],
   "source": [
    "street_names = street_names.values\n",
    "cleaned_street_names = street_names[~pd.isna(street_names)]\n",
    "\n",
    "# Convert lists to strings before using drop_duplicates\n",
    "unique_street_names = pd.Series([str(x) for x in street_names]).drop_duplicates().to_numpy()"
   ]
  },
  {
   "cell_type": "markdown",
   "id": "2cffb09e-cc62-48a0-9570-6c10cd07482d",
   "metadata": {},
   "source": [
    "### Find closest match using fuzzywuzzy's library"
   ]
  },
  {
   "cell_type": "code",
   "execution_count": 45,
   "id": "107b6330-9a54-4186-a6a1-59c1efe31f84",
   "metadata": {},
   "outputs": [],
   "source": [
    "def find_closest_matches(input_address, addresses, num_matches=3):\n",
    "    \"\"\"\n",
    "    Find the closest addresses to the input_address from a list of addresses.\n",
    "    \n",
    "    Parameters:\n",
    "    - input_address: The address input by the user.\n",
    "    - addresses: The list of cleaned addresses to compare against.\n",
    "    - num_matches: The number of closest matches to return (default is 3).\n",
    "    \n",
    "    Returns:\n",
    "    - A list of the closest matches.\n",
    "    \"\"\"\n",
    "    # Use fuzzywuzzy's process.extract to find the closest matches\n",
    "    closest_matches = process.extract(input_address, addresses, limit=num_matches)\n",
    "    \n",
    "    # Return just the addresses (not the scores)\n",
    "    return [match[0] for match in closest_matches]\n"
   ]
  },
  {
   "cell_type": "code",
   "execution_count": 47,
   "id": "fdcb9d1b-b868-4df0-9cbe-317efa4c97ff",
   "metadata": {},
   "outputs": [
    {
     "name": "stdout",
     "output_type": "stream",
     "text": [
      "Closest matches: ['Παλαιολόγου', 'Κ. Παλαιολόγου', 'Παλαιολόγου Μαν.']\n"
     ]
    }
   ],
   "source": [
    "# Example user input\n",
    "input_address = 'παλαιολόγου'\n",
    "\n",
    "# Find the 3 closest matches\n",
    "closest_matches = find_closest_matches(input_address, unique_street_names, num_matches=3)\n",
    "\n",
    "# Print the closest matches\n",
    "print(\"Closest matches:\", closest_matches)"
   ]
  },
  {
   "cell_type": "code",
   "execution_count": null,
   "id": "5a742623-0245-443b-b4c1-6de3cc0a661d",
   "metadata": {},
   "outputs": [],
   "source": []
  }
 ],
 "metadata": {
  "kernelspec": {
   "display_name": "Python 3 (ipykernel)",
   "language": "python",
   "name": "python3"
  },
  "language_info": {
   "codemirror_mode": {
    "name": "ipython",
    "version": 3
   },
   "file_extension": ".py",
   "mimetype": "text/x-python",
   "name": "python",
   "nbconvert_exporter": "python",
   "pygments_lexer": "ipython3",
   "version": "3.10.1"
  }
 },
 "nbformat": 4,
 "nbformat_minor": 5
}
